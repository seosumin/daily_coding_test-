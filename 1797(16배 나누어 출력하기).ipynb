{
 "cells": [
  {
   "cell_type": "markdown",
   "id": "2500ea3f",
   "metadata": {},
   "source": [
    "#  16배 나누어 출력하기"
   ]
  },
  {
   "cell_type": "markdown",
   "id": "cbcd16ea",
   "metadata": {},
   "source": [
    "- 정수 A가 입력될 때 A에서 16을 나눈 몫을 출력하는 프로그램을 작성하세요.\n",
    "- 입력 : 7\n",
    "- 출력 : 0\n",
    "- 입력값 : 첫째 줄에 정수 A가 입력됩니다. (0 <= A <= 100,000,000)\n",
    "- 출력값 : 첫째 줄에 정수 A에서 16을 나눈 몫을 출력합니다."
   ]
  },
  {
   "cell_type": "markdown",
   "id": "6c85cebc",
   "metadata": {},
   "source": [
    "## 1) 문제 이해\n",
    "- 주어진 값에 16을 나누면 끝..?"
   ]
  },
  {
   "cell_type": "markdown",
   "id": "02afbf79",
   "metadata": {},
   "source": [
    "## 2) 필요한건?\n",
    "- 나누기 정도?\n"
   ]
  },
  {
   "cell_type": "code",
   "execution_count": 1,
   "id": "fd0fc5d8",
   "metadata": {},
   "outputs": [
    {
     "name": "stdout",
     "output_type": "stream",
     "text": [
      "7\n",
      "0\n"
     ]
    }
   ],
   "source": [
    "# 일단 짜보자\n",
    "A = int(input())\n",
    "print(A//16)"
   ]
  },
  {
   "cell_type": "markdown",
   "id": "6978129a",
   "metadata": {},
   "source": [
    "- 마지막 테스트 케이스가 Fail이 나와서 계속 고생했다.\n",
    "- 이유는 정수와 실수가 제대로 구분되어 있지 않아서,\n",
    "- 하드코딩을 해보니, 모든 수가 float으로 나온다, 정수처럼 보여도, 314.0 처럼 소수점을 달고 나온다.\n",
    "- 따라서 마지막이 0으로 끝나면 정수로 바꾸라는 if문을 넣었더니 해결되었다."
   ]
  },
  {
   "cell_type": "code",
   "execution_count": null,
   "id": "2f585582",
   "metadata": {},
   "outputs": [],
   "source": []
  }
 ],
 "metadata": {
  "kernelspec": {
   "display_name": "Python 3 (ipykernel)",
   "language": "python",
   "name": "python3"
  },
  "language_info": {
   "codemirror_mode": {
    "name": "ipython",
    "version": 3
   },
   "file_extension": ".py",
   "mimetype": "text/x-python",
   "name": "python",
   "nbconvert_exporter": "python",
   "pygments_lexer": "ipython3",
   "version": "3.7.11"
  }
 },
 "nbformat": 4,
 "nbformat_minor": 5
}

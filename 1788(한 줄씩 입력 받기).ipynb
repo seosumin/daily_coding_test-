{
 "cells": [
  {
   "cell_type": "markdown",
   "id": "f9998dd5",
   "metadata": {},
   "source": [
    "## 한 줄씩 입력 받기 난이도 기초"
   ]
  },
  {
   "cell_type": "markdown",
   "id": "50709f44",
   "metadata": {},
   "source": [
    "- 공백을 포함하는 두 개의 문장이 줄바꿈을 기준으로 입력 됩니다. 이 두 문장을 줄바꿈을 기준으로 그대로 출력하는 프로그램을 작성하세요.\n",
    "- Hello World World Hello\n",
    "- Hello World World Hello\n",
    "- 첫째 줄에 공백을 포함한 문장 A가 입력됩니다. 둘째 줄에 공백을 포함한 문장 B가 입력됩니다. 이 때 문장 A와 B의 총 길이는 1,000자 이하입니다.\n",
    "- 첫째 줄에 문장 A를 출력합니다. 둘째 줄에 문장 B를 출력합니다."
   ]
  },
  {
   "cell_type": "markdown",
   "id": "43e39fcd",
   "metadata": {},
   "source": [
    "### 1) 문제 이해\n",
    "\n",
    "- 공백을 포함하는 두 개의 문장이 줄바꿈을 기준으로 입력,,,?\n",
    "- 즉, 두개의 문장 A, B를 받는데 이걸 줄바꿈 기준으로 출력하라는 의미인것 같다."
   ]
  },
  {
   "cell_type": "markdown",
   "id": "b67d656e",
   "metadata": {},
   "source": [
    "### 2) 필요한건?\n",
    "- 1. 두 문장을 연결하는 방법\n",
    "- 2. 연결할때 줄바꿈으로 연결하는 방법"
   ]
  },
  {
   "cell_type": "code",
   "execution_count": 8,
   "id": "f9a43905",
   "metadata": {},
   "outputs": [
    {
     "name": "stdout",
     "output_type": "stream",
     "text": [
      "Hello world world Hello\n"
     ]
    }
   ],
   "source": [
    "A = \"Hello world\"\n",
    "B = \"world Hello\"\n",
    "print(A, B)"
   ]
  },
  {
   "cell_type": "markdown",
   "id": "e268fc44",
   "metadata": {},
   "source": [
    "- 두 문장을 연결하는 아주 기본적인 방법은 그냥 + 하는것!"
   ]
  },
  {
   "cell_type": "code",
   "execution_count": 9,
   "id": "ee3c85d5",
   "metadata": {},
   "outputs": [
    {
     "data": {
      "text/plain": [
       "'Hello worldworld Hello'"
      ]
     },
     "execution_count": 9,
     "metadata": {},
     "output_type": "execute_result"
    }
   ],
   "source": [
    "A + B"
   ]
  },
  {
   "cell_type": "markdown",
   "id": "6002d626",
   "metadata": {},
   "source": [
    "- 하지만 그결과는 정말 이어 붙혀버린다. 그렇기 때문에 특정 메소드가 필요하다.\n",
    "- \"\\n\"은 줄 바꿈을 의미하는데 이걸 한번 써보자."
   ]
  },
  {
   "cell_type": "code",
   "execution_count": 18,
   "id": "88e4c8c4",
   "metadata": {},
   "outputs": [
    {
     "data": {
      "text/plain": [
       "'Hello world\\nworld Hello'"
      ]
     },
     "execution_count": 18,
     "metadata": {},
     "output_type": "execute_result"
    }
   ],
   "source": [
    "A +\"\\n\" + B"
   ]
  },
  {
   "cell_type": "markdown",
   "id": "3c4b32bd",
   "metadata": {},
   "source": [
    "- 그대로 문자열로 인식한다. 다른 방법이 있을까???\n",
    "- print() 문을 활용해서 문제를 풀어보자."
   ]
  },
  {
   "cell_type": "code",
   "execution_count": 17,
   "id": "7e92bb95",
   "metadata": {},
   "outputs": [
    {
     "name": "stdout",
     "output_type": "stream",
     "text": [
      "Hello world\n",
      "world Hello\n"
     ]
    }
   ],
   "source": [
    "print(A +\"\\n\" + B)"
   ]
  },
  {
   "cell_type": "code",
   "execution_count": 14,
   "id": "90ebb7c3",
   "metadata": {},
   "outputs": [
    {
     "name": "stdout",
     "output_type": "stream",
     "text": [
      "Hello world\n",
      "world Hello\n"
     ]
    }
   ],
   "source": [
    "print(A, B, sep=\"\\n\")"
   ]
  },
  {
   "cell_type": "code",
   "execution_count": null,
   "id": "7a3cea5e",
   "metadata": {},
   "outputs": [],
   "source": [
    "# 최종 코드\n",
    "A=str(input())\n",
    "B=str(input())\n",
    "print(A +\"\\n\" + B)"
   ]
  },
  {
   "cell_type": "markdown",
   "id": "c7d2b41c",
   "metadata": {},
   "source": [
    "- print()문은 sep 파라미터를 통해 원하는 대로 구분할 수 있다.\n",
    "- 즉, 본 코딩은 print문을 얼마나 잘 활용하는지를 테스트하는 것이 목적"
   ]
  },
  {
   "cell_type": "markdown",
   "id": "b5a5c24f",
   "metadata": {},
   "source": [
    "### 3) 만약 print()의 sep를 몰랐다면 어떻게 풀었을까?\n",
    "- 1) A랑 B를 먼저 연결한다음, "
   ]
  }
 ],
 "metadata": {
  "kernelspec": {
   "display_name": "Python 3 (ipykernel)",
   "language": "python",
   "name": "python3"
  },
  "language_info": {
   "codemirror_mode": {
    "name": "ipython",
    "version": 3
   },
   "file_extension": ".py",
   "mimetype": "text/x-python",
   "name": "python",
   "nbconvert_exporter": "python",
   "pygments_lexer": "ipython3",
   "version": "3.9.7"
  }
 },
 "nbformat": 4,
 "nbformat_minor": 5
}

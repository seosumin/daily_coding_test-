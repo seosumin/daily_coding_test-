{
 "cells": [
  {
   "cell_type": "markdown",
   "id": "2500ea3f",
   "metadata": {},
   "source": [
    "#  3인 체조 경기 기초"
   ]
  },
  {
   "cell_type": "markdown",
   "id": "cbcd16ea",
   "metadata": {},
   "source": [
    "- 3인 체조 경기는 이번에 올림픽에 등록된 종목입니다. 경기를 하려면 3명의 선수가 필요합니다. 3명의 선수가 한 칸씩 일렬로 서 있을 때 가운데에 서있는 선수를 제외한 나머지 두 선수 중 한 명이 나머지 두 사람 사이의 아무 칸으로 점프합니다. 이후 계속해서 기존의 두 선수 사이의 공간을 한 칸씩 점프하여 이동할 수 있습니다. 한 칸에 두 명 이상이 있을 수 없다고 할 때, 최대 몇 번의 점프를 할 수 있는지 알아내는 프로그램을 만드세요.\n",
    "- 입력 : 1 15 20\n",
    "- 출력 : 13\n",
    "- 입력값 : 첫째 줄에 공백을 두고 세 선수가 서 있는 칸의 좌표가 공백을 두고 오름차순으로 주어집니다. 각각의 좌표는 1 이상 100,000 이하의 자연수입니다.\n",
    "- 출력값 : 최대 몇 번의 점프를 할 수 있는지 그 횟수를 출력합니다."
   ]
  },
  {
   "cell_type": "markdown",
   "id": "6c85cebc",
   "metadata": {},
   "source": [
    "## 1) 문제 이해\n",
    "- 입력 받은 숫자는 좌표를 의미한다.\n",
    "- 중앙의 숫자를 기준으로 좌/우의 차이만큼 공간이 존재한다.\n",
    "- 그 차이 만큼 좌/우의 선수들이 공간을 비집고 들어올 수 있다.\n",
    "- 예시) 각각 ABC라고 할때,\n",
    "- 1\\~C\\~15 << 1\n",
    "- 2\\~A\\~15 << 2\n",
    "- 3\\~C\\~15 << 3\n",
    "- 4\\~A\\~15 << 4\n",
    "- 5\\~C\\~15 << 5\n",
    "- 6\\~A\\~15 << 6\n",
    "- 7\\~C\\~15 << 7\n",
    "- 8\\~A\\~15 << 8\n",
    "- 9\\~C\\~15 << 9\n",
    "- 10\\~A\\~15 << 10\n",
    "- 11\\~C\\~15 << 11\n",
    "- 12\\~A\\~15 << 12\n",
    "- 13\\~C\\~15 << 13\n",
    "\n",
    "- 이렇게 왔다갔다 하는것\n",
    "- 결국, 중간 값이 최대 범위가 되고, 좌/우의 값에 차를 구한게 최소범위 인것\n",
    "- 이후 그 사이값을 카운팅"
   ]
  },
  {
   "cell_type": "markdown",
   "id": "02afbf79",
   "metadata": {},
   "source": [
    "## 2) 필요한건?\n",
    "- 문제를 해석하는 머리...\n",
    "- 규칙을 코딩으로 짜는 능력 정도..?\n"
   ]
  },
  {
   "cell_type": "code",
   "execution_count": 57,
   "id": "acb0ec43",
   "metadata": {},
   "outputs": [
    {
     "name": "stdout",
     "output_type": "stream",
     "text": [
      "7 9 21\n",
      "11\n"
     ]
    }
   ],
   "source": [
    "A=input()\n",
    "n_l=list(map(int, A.split(\" \")))\n",
    "left=n_l[1]-n_l[0]\n",
    "right=n_l[2]-n_l[1]\n",
    "if left > right:\n",
    "    print(left-1)\n",
    "else:\n",
    "    print(right-1)"
   ]
  },
  {
   "cell_type": "markdown",
   "id": "cf79891a",
   "metadata": {},
   "source": [
    "- 여기서는 map 함수를 사용했다.\n",
    "- 코딩 테스트할때 map 함수를 잘 활용하면 좋다.\n",
    "- map(function, iterable)\n",
    "- 첫번째 매개변수는 사용하고자 하는 함수,\n",
    "- 두번째 매개변수는 반복가능한 자료형(리스트, 튜플)\n",
    "- 반환값은 객체이기 때문에, list나 튜플로 바꿔줘야한다."
   ]
  },
  {
   "cell_type": "markdown",
   "id": "4c7fba48",
   "metadata": {},
   "source": [
    "## 테스트 케이스 중 1개가 Fail이 떠서 1시간째 골머리중...\n",
    "- ~~이유를 모르겠다.~~\n",
    "- 이유를 찾았다. 친절한 에이블러가 상세한 이유까지 말씀주셨다.\n",
    "- 문제의 원인은 split(\" \")과 split()의 차이를 몰라서 발생했다.\n"
   ]
  },
  {
   "cell_type": "code",
   "execution_count": 4,
   "id": "e83133bc",
   "metadata": {},
   "outputs": [],
   "source": [
    "string= \"word1 word2  word3    word4     \""
   ]
  },
  {
   "cell_type": "code",
   "execution_count": 5,
   "id": "119433f3",
   "metadata": {},
   "outputs": [
    {
     "name": "stdout",
     "output_type": "stream",
     "text": [
      "['word1', 'word2', 'word3', 'word4']\n"
     ]
    }
   ],
   "source": [
    "print(string.split())"
   ]
  },
  {
   "cell_type": "code",
   "execution_count": 6,
   "id": "053e3e90",
   "metadata": {},
   "outputs": [
    {
     "name": "stdout",
     "output_type": "stream",
     "text": [
      "['word1', 'word2', '', 'word3', '', '', '', 'word4', '', '', '', '', '']\n"
     ]
    }
   ],
   "source": [
    "print(string.split(\" \"))"
   ]
  },
  {
   "cell_type": "markdown",
   "id": "c1344687",
   "metadata": {},
   "source": [
    "- 이처럼 split()은 공백이 1개든 2개든 모두 1개로 처리한다. 또한, 공백뿐만 아니라 \\t, \\n도 함께 처리한다.\n",
    "- 반면에 split(\" \")는 공백 1개를 따로따로 처리한다. \n",
    "\n",
    "* 즉 테스트 케이스 6에서 Fail이 뜬 이유는 입력 받을때 공백이 1개가 아닌 그이상으로 받아서 스플릿할때 공백이 들어간 것 같다."
   ]
  },
  {
   "cell_type": "code",
   "execution_count": null,
   "id": "ae98824e",
   "metadata": {},
   "outputs": [],
   "source": []
  }
 ],
 "metadata": {
  "kernelspec": {
   "display_name": "Python 3 (ipykernel)",
   "language": "python",
   "name": "python3"
  },
  "language_info": {
   "codemirror_mode": {
    "name": "ipython",
    "version": 3
   },
   "file_extension": ".py",
   "mimetype": "text/x-python",
   "name": "python",
   "nbconvert_exporter": "python",
   "pygments_lexer": "ipython3",
   "version": "3.9.7"
  }
 },
 "nbformat": 4,
 "nbformat_minor": 5
}

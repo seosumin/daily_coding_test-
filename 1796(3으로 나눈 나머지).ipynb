{
 "cells": [
  {
   "cell_type": "markdown",
   "id": "2500ea3f",
   "metadata": {},
   "source": [
    "#  3으로 나눈 나머지"
   ]
  },
  {
   "cell_type": "markdown",
   "id": "cbcd16ea",
   "metadata": {},
   "source": [
    "- 문자열 A가 입력되었을 때 문자열 A가 'You'이면 'Me'라고 출력하고, 그렇지 않으면 'No'라고 출력하는 프로그램을 작성하세요.\n",
    "- 입력 : Are you?\n",
    "- 출력 : No\n",
    "- 입력값 : 문자열 A가 한 줄에 걸쳐 입력됩니다. (1 <= 문자열의 길이 <= 1,000)\n",
    "- 출력값 : 문자열 A가 'You'이면 'Me'라고 출력하고, 그렇지 않으면 'No'라고 출력합니다."
   ]
  },
  {
   "cell_type": "markdown",
   "id": "6c85cebc",
   "metadata": {},
   "source": [
    "## 1) 문제 이해\n",
    "- 입력값이 You이면 me라고 출력하고 나머진 'No'\n"
   ]
  },
  {
   "cell_type": "markdown",
   "id": "02afbf79",
   "metadata": {},
   "source": [
    "## 2) 필요한건?\n",
    "- 나누기 정도?\n"
   ]
  },
  {
   "cell_type": "code",
   "execution_count": 1,
   "id": "fd0fc5d8",
   "metadata": {},
   "outputs": [
    {
     "name": "stdout",
     "output_type": "stream",
     "text": [
      "5\n",
      "2\n"
     ]
    }
   ],
   "source": [
    "# 일단 짜보자\n",
    "A = int(input())\n",
    "print(A%3)"
   ]
  },
  {
   "cell_type": "code",
   "execution_count": null,
   "id": "2f585582",
   "metadata": {},
   "outputs": [],
   "source": []
  }
 ],
 "metadata": {
  "kernelspec": {
   "display_name": "Python 3 (ipykernel)",
   "language": "python",
   "name": "python3"
  },
  "language_info": {
   "codemirror_mode": {
    "name": "ipython",
    "version": 3
   },
   "file_extension": ".py",
   "mimetype": "text/x-python",
   "name": "python",
   "nbconvert_exporter": "python",
   "pygments_lexer": "ipython3",
   "version": "3.7.11"
  }
 },
 "nbformat": 4,
 "nbformat_minor": 5
}

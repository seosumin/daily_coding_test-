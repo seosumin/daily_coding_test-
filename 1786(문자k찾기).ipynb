{
 "cells": [
  {
   "cell_type": "markdown",
   "id": "bd4866d0",
   "metadata": {},
   "source": [
    "# 문자 k 찾기"
   ]
  },
  {
   "cell_type": "markdown",
   "id": "388b684b",
   "metadata": {},
   "source": [
    "- 공백을 포함하지 않는 문자열이 하나 주어졌을 때 해당 문자열에 포함되어 있는 문자 'k'의 개수를 출력하는 프로그램을 작성하세요.\n",
    "- 입력 : kakao\n",
    "- 출력 : 2\n",
    "- 입력값 : 첫 번째 문자열 A가 입력됩니다. 이 때 문자열 A의 길이는 10,000자를 넘지 않습니다.\n",
    "- 출력값 : 첫 번째 줄에 문자열 A에 포함되어 있는 문자 'k'의 개수를 출력합니다."
   ]
  },
  {
   "cell_type": "markdown",
   "id": "a0abf254",
   "metadata": {},
   "source": [
    "## 1) 문제 이해\n",
    "- 주어진 문자열에서 k를 찾고 카운팅하자\n"
   ]
  },
  {
   "cell_type": "markdown",
   "id": "81d025ca",
   "metadata": {},
   "source": [
    "## 2) 필요한건?\n",
    "- 정규표현식? \n",
    "- 아니면 단순히 for문으로도 풀수 있을듯 하다. \n",
    "- find() 이런것도 가능할 것 같다."
   ]
  },
  {
   "cell_type": "code",
   "execution_count": 1,
   "id": "980d558f",
   "metadata": {},
   "outputs": [
    {
     "name": "stdout",
     "output_type": "stream",
     "text": [
      "kkkkkkkkk\n",
      "9\n"
     ]
    }
   ],
   "source": [
    "A=input()\n",
    "num=0\n",
    "for i in list(A):\n",
    "    if i == 'k':\n",
    "        num+=1\n",
    "print(num)"
   ]
  },
  {
   "cell_type": "markdown",
   "id": "4f7a6dd5",
   "metadata": {},
   "source": [
    "- 간단하다."
   ]
  },
  {
   "cell_type": "code",
   "execution_count": null,
   "id": "c1036b29",
   "metadata": {},
   "outputs": [],
   "source": []
  }
 ],
 "metadata": {
  "kernelspec": {
   "display_name": "Python 3 (ipykernel)",
   "language": "python",
   "name": "python3"
  },
  "language_info": {
   "codemirror_mode": {
    "name": "ipython",
    "version": 3
   },
   "file_extension": ".py",
   "mimetype": "text/x-python",
   "name": "python",
   "nbconvert_exporter": "python",
   "pygments_lexer": "ipython3",
   "version": "3.9.7"
  }
 },
 "nbformat": 4,
 "nbformat_minor": 5
}

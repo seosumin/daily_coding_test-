{
 "cells": [
  {
   "cell_type": "markdown",
   "id": "2500ea3f",
   "metadata": {},
   "source": [
    "#  주민등록증"
   ]
  },
  {
   "cell_type": "markdown",
   "id": "cbcd16ea",
   "metadata": {},
   "source": [
    "- 주민등록증을 발급받으려면 동사무소에서 승인을 받아야 합니다. 만약에 영문이름의 알파벳 수가 20자를 넘으면 특별신청을 해야 합니다. 영문이름이 주어졌을 때, 특별신청을 해야하는지 알아내는 프로그램을 만드세요.\n",
    "- 입력 : parkjisung\n",
    "- 출력 : -1\n",
    "- 입력값 : 첫번째 줄에 영문이름이 알파벳 소문자로 공백없이 주어집니다. 알파벳의 수는 한글자 이상 30글자 미만입니다.\n",
    "- 출력값 : 영문이름의 알파벳 수가 20글자 이상이면 0을, 20글자 미만이면 -1을 출력합니다."
   ]
  },
  {
   "cell_type": "markdown",
   "id": "6c85cebc",
   "metadata": {},
   "source": [
    "## 1) 문제 이해\n",
    "- 알파벳을 받는데, 만약 20자가 넘으면 0 미만이면 -1을 출력하는 간단한 문제\n"
   ]
  },
  {
   "cell_type": "markdown",
   "id": "02afbf79",
   "metadata": {},
   "source": [
    "## 2) 필요한건?\n",
    "- len정도?"
   ]
  },
  {
   "cell_type": "code",
   "execution_count": 1,
   "id": "fd0fc5d8",
   "metadata": {},
   "outputs": [
    {
     "name": "stdout",
     "output_type": "stream",
     "text": [
      "dkslkdfjleinslkxjcielwmckdlix\n",
      "0\n"
     ]
    }
   ],
   "source": [
    "# 짜보자\n",
    "Name = str(input())\n",
    "if len(Name) > 20:\n",
    "    print(0)\n",
    "else:\n",
    "    print(-1)"
   ]
  },
  {
   "cell_type": "markdown",
   "id": "035ca2b4",
   "metadata": {},
   "source": [
    "- 어렵지 않은 간단한 문제"
   ]
  },
  {
   "cell_type": "code",
   "execution_count": null,
   "id": "05b59739",
   "metadata": {},
   "outputs": [],
   "source": []
  }
 ],
 "metadata": {
  "kernelspec": {
   "display_name": "Python 3 (ipykernel)",
   "language": "python",
   "name": "python3"
  },
  "language_info": {
   "codemirror_mode": {
    "name": "ipython",
    "version": 3
   },
   "file_extension": ".py",
   "mimetype": "text/x-python",
   "name": "python",
   "nbconvert_exporter": "python",
   "pygments_lexer": "ipython3",
   "version": "3.7.11"
  }
 },
 "nbformat": 4,
 "nbformat_minor": 5
}

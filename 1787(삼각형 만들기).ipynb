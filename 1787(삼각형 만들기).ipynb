{
 "cells": [
  {
   "cell_type": "markdown",
   "id": "fbde5a94",
   "metadata": {},
   "source": [
    "# 삼각형 만들기 기초"
   ]
  },
  {
   "cell_type": "markdown",
   "id": "24f0e4d5",
   "metadata": {},
   "source": [
    "- 현지는 프로그래밍을 좋아하지만 잘 하지는 못합니다. 현지는 최근에 반복문에 대해서 공부하고 있습니다. 반복문을 공부할 때는 삼각형을 출력해보는 것이 매우 효과적이라는 소리를 듣고 따라서 공부하고 있습니다. 따라서 공부에 어려움을 겪고 있는 현지를 위해서 정수 N이 입력되었을 때 크기가 N인 삼각형 피라미드를 출력하는 프로그램을 대신 작성해주고자 합니다. 예를 들어 N이 3일 때 삼각형 피라미드는 다음과 같습니다. * ** *** 또한 N이 5일 때 삼각형 피라미드는 다음과 같습니다. * ** *** **** *****\n",
    "- 입력 : 4\n",
    "- 출력 : \n",
    "- *\n",
    "- **\n",
    "- \\***\n",
    "- \\****\n",
    "- 입력값 : 첫 번째 줄에 정수 N가 입력됩니다. (1 <= N <= 20)\n",
    "- 출력값 : 크기가 N인 삼각형 피라미드를 출력합니다."
   ]
  },
  {
   "cell_type": "markdown",
   "id": "67e062ba",
   "metadata": {},
   "source": [
    "## 1) 문제 이해\n",
    "- 정수 N을 받는다\n",
    "- 받은 정수만큼 *을 찍는다\n",
    "- 가로 세로 모두 받은 만큼 찍는다."
   ]
  },
  {
   "cell_type": "markdown",
   "id": "8d559cd0",
   "metadata": {},
   "source": [
    "## 2) 필요한건?\n",
    "- 반복문 끝"
   ]
  },
  {
   "cell_type": "code",
   "execution_count": 2,
   "id": "f35cc2ec",
   "metadata": {},
   "outputs": [
    {
     "name": "stdout",
     "output_type": "stream",
     "text": [
      "10\n",
      "*\n",
      "**\n",
      "***\n",
      "****\n",
      "*****\n",
      "******\n",
      "*******\n",
      "********\n",
      "*********\n",
      "**********\n"
     ]
    }
   ],
   "source": [
    "N=int(input())\n",
    "for i in range(1, N+1):\n",
    "    star = \"*\" * i\n",
    "    print(star)"
   ]
  },
  {
   "cell_type": "markdown",
   "id": "d0f21d9b",
   "metadata": {},
   "source": [
    "- 문자열도 연산이 가능하다. 그냥 편하게 루프 돌리자"
   ]
  },
  {
   "cell_type": "code",
   "execution_count": null,
   "id": "6b31883b",
   "metadata": {},
   "outputs": [],
   "source": []
  }
 ],
 "metadata": {
  "kernelspec": {
   "display_name": "Python 3 (ipykernel)",
   "language": "python",
   "name": "python3"
  },
  "language_info": {
   "codemirror_mode": {
    "name": "ipython",
    "version": 3
   },
   "file_extension": ".py",
   "mimetype": "text/x-python",
   "name": "python",
   "nbconvert_exporter": "python",
   "pygments_lexer": "ipython3",
   "version": "3.9.7"
  }
 },
 "nbformat": 4,
 "nbformat_minor": 5
}

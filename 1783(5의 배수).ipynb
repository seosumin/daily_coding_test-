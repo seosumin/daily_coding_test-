{
 "cells": [
  {
   "cell_type": "markdown",
   "id": "2500ea3f",
   "metadata": {},
   "source": [
    "#  5의 배수 기초"
   ]
  },
  {
   "cell_type": "markdown",
   "id": "cbcd16ea",
   "metadata": {},
   "source": [
    "- 1부터 N까지의 숫자 중에서 5의 배수의 개수를 출력하는 프로그램을 만드세요.\n",
    "- 입력 : 23\n",
    "- 출력 : 4\n",
    "- 입력값 : 1 이상 100,000 이하의 자연수 N이 주어집니다.\n",
    "- 출력값 : 1부터 N까지의 자연수 중에서 5의 배수의 개수를 출력합니다."
   ]
  },
  {
   "cell_type": "markdown",
   "id": "6c85cebc",
   "metadata": {},
   "source": [
    "## 1) 문제 이해\n",
    "- 5로 나누었을때 나머지가 0이면 그게 배수 아닐까?\n"
   ]
  },
  {
   "cell_type": "markdown",
   "id": "02afbf79",
   "metadata": {},
   "source": [
    "## 2) 필요한건?\n",
    "- 나누기 정도?\n"
   ]
  },
  {
   "cell_type": "code",
   "execution_count": 1,
   "id": "acb0ec43",
   "metadata": {},
   "outputs": [
    {
     "name": "stdout",
     "output_type": "stream",
     "text": [
      "100\n"
     ]
    },
    {
     "data": {
      "text/plain": [
       "19"
      ]
     },
     "execution_count": 1,
     "metadata": {},
     "output_type": "execute_result"
    }
   ],
   "source": [
    "A=int(input())\n",
    "num=0\n",
    "for i in range(1, A):\n",
    "    if i%5==0:\n",
    "        num+=1\n",
    "print(num)"
   ]
  }
 ],
 "metadata": {
  "kernelspec": {
   "display_name": "Python 3 (ipykernel)",
   "language": "python",
   "name": "python3"
  },
  "language_info": {
   "codemirror_mode": {
    "name": "ipython",
    "version": 3
   },
   "file_extension": ".py",
   "mimetype": "text/x-python",
   "name": "python",
   "nbconvert_exporter": "python",
   "pygments_lexer": "ipython3",
   "version": "3.9.7"
  }
 },
 "nbformat": 4,
 "nbformat_minor": 5
}

{
 "cells": [
  {
   "cell_type": "markdown",
   "id": "2500ea3f",
   "metadata": {},
   "source": [
    "#  수들의 합"
   ]
  },
  {
   "cell_type": "markdown",
   "id": "cbcd16ea",
   "metadata": {},
   "source": [
    "- 자연수들로 이루어진 수열이 있을 때, 이 수열의 합을 구하려고 합니다. N개의 자연수가 주어졌을 때, 이 수들의 합을 구하는 프로그램을 만드세요.\n",
    "- 입력 \n",
    "- 9\n",
    "- 14\n",
    "- 59\n",
    "- 24\n",
    "- 32\n",
    "- 1\n",
    "- 4\n",
    "- 6\n",
    "- 35\n",
    "- 18\n",
    "- 출력 : 193\n",
    "- 입력값 : 첫번째 줄에 자연수 N이 주어집니다. (1 <= N <= 500) 두번째 N+1번째줄까지 수들이 주어집니다. 이 수들은 1 이상 10,000 이하의 자연수입니다.\n",
    "- 출력값 : 수들의 합을 출력합니다."
   ]
  },
  {
   "cell_type": "markdown",
   "id": "6c85cebc",
   "metadata": {},
   "source": [
    "## 1) 문제 이해\n",
    "- 주어진 자연수 N에 대한 전체 합을 구하면 된다. \n",
    "- input을 여러개 받는법을 아니? 라고 물어보는 코딩같다.\n",
    "\n"
   ]
  },
  {
   "cell_type": "markdown",
   "id": "02afbf79",
   "metadata": {},
   "source": [
    "## 2) 필요한건?\n",
    "- for문으로 루프돌리면 되지 않을까?\n"
   ]
  },
  {
   "cell_type": "code",
   "execution_count": 3,
   "id": "acb0ec43",
   "metadata": {},
   "outputs": [
    {
     "name": "stdout",
     "output_type": "stream",
     "text": [
      "10\n",
      "10\n",
      "10\n",
      "10\n",
      "10\n",
      "10\n",
      "10\n",
      "10\n",
      "10\n",
      "10\n",
      "10\n",
      "100\n"
     ]
    }
   ],
   "source": [
    "A=int(input())\n",
    "num=0\n",
    "for i in range(0, A):\n",
    "    tmp=int(input())\n",
    "    num+=tmp\n",
    "print(num)"
   ]
  }
 ],
 "metadata": {
  "kernelspec": {
   "display_name": "Python 3 (ipykernel)",
   "language": "python",
   "name": "python3"
  },
  "language_info": {
   "codemirror_mode": {
    "name": "ipython",
    "version": 3
   },
   "file_extension": ".py",
   "mimetype": "text/x-python",
   "name": "python",
   "nbconvert_exporter": "python",
   "pygments_lexer": "ipython3",
   "version": "3.9.7"
  }
 },
 "nbformat": 4,
 "nbformat_minor": 5
}

{
 "cells": [
  {
   "cell_type": "markdown",
   "id": "2500ea3f",
   "metadata": {},
   "source": [
    "#  소수 구하기"
   ]
  },
  {
   "cell_type": "markdown",
   "id": "cbcd16ea",
   "metadata": {},
   "source": [
    "- 소수란 약수가 자기 자신과 1만 존재하는 수를 말합니다. 수들의 범위가 주어졌을 때, 그 범위 안에 소수가 몇 개 존재하는지 알아내는 프로그램을 만드세요.\n",
    "- 입력 : 978\n",
    "- 출력 : 165\n",
    "- 입력값 : 첫 번째 줄에 1 이상 1000 이하의 자연수 N이 주어집니다.\n",
    "- 출력값 : 1 이상 N 이하의 자연수 중에서의 소수의 개수를 출력합니다."
   ]
  },
  {
   "cell_type": "markdown",
   "id": "6c85cebc",
   "metadata": {},
   "source": [
    "## 1) 문제 이해\n",
    "- 소수 구하는 문제 코테에서 가장 쉽게 볼수 있는 문제\n",
    "- 하지만 어렵다.\n",
    "- 1은 소수가 아니다.\n",
    "- 소수는 약수가 2개인 것을 뜻한다."
   ]
  },
  {
   "cell_type": "markdown",
   "id": "02afbf79",
   "metadata": {},
   "source": [
    "## 2) 필요한건?\n",
    "- 일단 이중 for문을 써야할 것 같다.\n",
    "- 처음부터 범위값 까지 1loop, 그리고 소수를 구하기 위한 나누셈 2loop\n",
    "- 나눌때 어떻게 나눌까..? \n",
    "- 에라토스테네스의 체.....라는걸 사용하면 쉽게 풀수 있다고 한다.\n",
    "- 에라토스테네스의 체란..?"
   ]
  },
  {
   "cell_type": "code",
   "execution_count": 47,
   "id": "fd0fc5d8",
   "metadata": {},
   "outputs": [
    {
     "data": {
      "text/plain": [
       "True"
      ]
     },
     "execution_count": 47,
     "metadata": {},
     "output_type": "execute_result"
    }
   ],
   "source": [
    "#일단 기본적인 소수 판별 알고리즘을 짜보자 \n",
    "# 특정 숫자가 나눠지면 그건 소수가 아니다.\n",
    "def is_prime_number(x):\n",
    "    for i in range(2, x):\n",
    "        if x % i==0:\n",
    "            return False\n",
    "    return True\n",
    " \n",
    "is_prime_number(1)"
   ]
  },
  {
   "cell_type": "code",
   "execution_count": 48,
   "id": "b6d5a34d",
   "metadata": {},
   "outputs": [
    {
     "name": "stdout",
     "output_type": "stream",
     "text": [
      "10\n",
      "4\n"
     ]
    }
   ],
   "source": [
    "# 만들어진 소수판별 알고리즘을 N의 개수만큼 돌려보자\n",
    "N=int(input())\n",
    "num=0\n",
    "for i in range(1, N):\n",
    "    if is_prime_number(i)==True:\n",
    "        num+=1\n",
    "print(num-1)\n"
   ]
  },
  {
   "cell_type": "markdown",
   "id": "23b01290",
   "metadata": {},
   "source": [
    "- 중1 교과서에서 에라토스테네스의 체를 배운다고 한다.\n",
    "- 나의 수학 실력은 중1도 안되나보다.\n",
    "- https://www.youtube.com/watch?v=sV3-jnfaW2E"
   ]
  },
  {
   "cell_type": "markdown",
   "id": "722ab683",
   "metadata": {},
   "source": [
    "- 에라토스테네스라는 사람이 소수를 판별하기 위해 어떻게 빠르고 쉽게 할까 고민해서 만들것\n",
    "\n",
    "- N의 개수만큼 숫자를 쫙 뿌린 다음에, 각각의 수에 대한 배수를 다 지워보자."
   ]
  },
  {
   "cell_type": "code",
   "execution_count": 49,
   "id": "acb0ec43",
   "metadata": {},
   "outputs": [
    {
     "name": "stdout",
     "output_type": "stream",
     "text": [
      "[2, 3, 5, 7]\n"
     ]
    }
   ],
   "source": [
    "#에라토스테네스의 체 구현\n",
    "n=10\n",
    "a = [False,False] + [True]*(n-1)\n",
    "primes=[]\n",
    "\n",
    "for i in range(2,n+1):\n",
    "    if a[i]:\n",
    "        primes.append(i)\n",
    "        for j in range(2*i, n+1, i):\n",
    "            a[j] = False\n",
    "print(primes)"
   ]
  },
  {
   "cell_type": "code",
   "execution_count": null,
   "id": "cd1f7272",
   "metadata": {},
   "outputs": [],
   "source": []
  }
 ],
 "metadata": {
  "kernelspec": {
   "display_name": "Python 3 (ipykernel)",
   "language": "python",
   "name": "python3"
  },
  "language_info": {
   "codemirror_mode": {
    "name": "ipython",
    "version": 3
   },
   "file_extension": ".py",
   "mimetype": "text/x-python",
   "name": "python",
   "nbconvert_exporter": "python",
   "pygments_lexer": "ipython3",
   "version": "3.9.7"
  }
 },
 "nbformat": 4,
 "nbformat_minor": 5
}

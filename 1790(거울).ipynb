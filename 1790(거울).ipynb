{
 "cells": [
  {
   "cell_type": "markdown",
   "id": "ca71451e",
   "metadata": {},
   "source": [
    "## 거울 - 난이도 기초"
   ]
  },
  {
   "cell_type": "markdown",
   "id": "eb0333d3",
   "metadata": {},
   "source": [
    "- 수연이네 반 칠판 앞에 누군가 큰 거울을 놓았습니다. 이때부터 칠판에 쓴 글씨나 숫자는 모두 좌우가 상반된 형태로 보입니다. 예를 들어 214는 412로 보입니다. 칠판에 서로 다른 두 세 자리 숫자가 쓰여졌을 때, 거울에 비춰진 두 숫자 중 더 큰 숫자를 출력하세요.\n",
    "- 입력 : 123 485\n",
    "- 출력 : 584\n",
    "- 입력값 설명 : 첫째 줄에 칠판에 적힌 두 수 A와 B가 공백을 두고 주어집니다. 두 수는 서로 다른 세 자리 수이며, 0이 포함되어 있지 않습니다.\n",
    "- 출력값 설명 : 거울에 비춰진 두 숫자 중 더 큰 숫자를 출력합니다."
   ]
  },
  {
   "cell_type": "markdown",
   "id": "b5744641",
   "metadata": {},
   "source": [
    "### 1) 문제 이해\n",
    "- 두 개의 3자리 정수를 공백을 기준으로 입력받는다.\n",
    "- 공백을 기준으로 스플릿한다.\n",
    "- 분리된 각 정수를 뒤집는다.\n",
    "- 뒤집은 두 정수값을 비교한다.\n",
    "- 더 높은 숫자를 출력한다."
   ]
  },
  {
   "cell_type": "markdown",
   "id": "b9f3fd6a",
   "metadata": {},
   "source": [
    "### 2) 필요한건?\n",
    "- 공백을 기준으로 스플릿\n",
    "- 뒤집는 방법 --> reverse?, [::-1]\n",
    "- 비교연산자"
   ]
  },
  {
   "cell_type": "code",
   "execution_count": 1,
   "id": "2bd843e3",
   "metadata": {},
   "outputs": [
    {
     "name": "stdout",
     "output_type": "stream",
     "text": [
      "123\n",
      "456\n"
     ]
    },
    {
     "ename": "AttributeError",
     "evalue": "'int' object has no attribute 'reverse'",
     "output_type": "error",
     "traceback": [
      "\u001b[1;31m---------------------------------------------------------------------------\u001b[0m",
      "\u001b[1;31mAttributeError\u001b[0m                            Traceback (most recent call last)",
      "\u001b[1;32m~\\AppData\\Local\\Temp/ipykernel_23364/1933890423.py\u001b[0m in \u001b[0;36m<module>\u001b[1;34m\u001b[0m\n\u001b[0;32m      1\u001b[0m \u001b[0ma\u001b[0m\u001b[1;33m=\u001b[0m\u001b[0mint\u001b[0m\u001b[1;33m(\u001b[0m\u001b[0minput\u001b[0m\u001b[1;33m(\u001b[0m\u001b[1;33m)\u001b[0m\u001b[1;33m)\u001b[0m\u001b[1;33m\u001b[0m\u001b[1;33m\u001b[0m\u001b[0m\n\u001b[0;32m      2\u001b[0m \u001b[0mb\u001b[0m\u001b[1;33m=\u001b[0m\u001b[0mint\u001b[0m\u001b[1;33m(\u001b[0m\u001b[0minput\u001b[0m\u001b[1;33m(\u001b[0m\u001b[1;33m)\u001b[0m\u001b[1;33m)\u001b[0m\u001b[1;33m\u001b[0m\u001b[1;33m\u001b[0m\u001b[0m\n\u001b[1;32m----> 3\u001b[1;33m \u001b[0mprint\u001b[0m\u001b[1;33m(\u001b[0m\u001b[0ma\u001b[0m\u001b[1;33m.\u001b[0m\u001b[0mreverse\u001b[0m\u001b[1;33m(\u001b[0m\u001b[1;33m)\u001b[0m\u001b[1;33m)\u001b[0m\u001b[1;33m\u001b[0m\u001b[1;33m\u001b[0m\u001b[0m\n\u001b[0m\u001b[0;32m      4\u001b[0m \u001b[0mprint\u001b[0m\u001b[1;33m(\u001b[0m\u001b[0mb\u001b[0m\u001b[1;33m.\u001b[0m\u001b[0mrevers\u001b[0m\u001b[1;33m(\u001b[0m\u001b[1;33m)\u001b[0m\u001b[1;33m)\u001b[0m\u001b[1;33m\u001b[0m\u001b[1;33m\u001b[0m\u001b[0m\n",
      "\u001b[1;31mAttributeError\u001b[0m: 'int' object has no attribute 'reverse'"
     ]
    }
   ],
   "source": [
    "a=int(input())\n",
    "b=int(input())\n",
    "print(a.reverse())\n",
    "print(b.reverse())\n"
   ]
  },
  {
   "cell_type": "markdown",
   "id": "8f7981e3",
   "metadata": {},
   "source": [
    "-reverse 함수는 리스트 타입에서 사용할 수 있다. 따라서 먼저 리스트로 변환해주어야 한다."
   ]
  },
  {
   "cell_type": "code",
   "execution_count": 45,
   "id": "090e606b",
   "metadata": {},
   "outputs": [
    {
     "name": "stdout",
     "output_type": "stream",
     "text": [
      "123 456\n",
      "654\n"
     ]
    }
   ],
   "source": [
    "i_s=str(input())\n",
    "a, b=i_s.split(' ')\n",
    "a=list(a)\n",
    "b=list(b)\n",
    "a.reverse()\n",
    "b.reverse()\n",
    "a=''.join(a)\n",
    "b=''.join(b)\n",
    "if int(a)> int(b):\n",
    "    print(a)\n",
    "else:\n",
    "    print(b)\n"
   ]
  },
  {
   "cell_type": "markdown",
   "id": "25e4c52f",
   "metadata": {},
   "source": [
    "- i_s 변수에 공백을 기준으로 두 정수를 입력받는다.\n",
    "- split 함수를 통해 a, b를 분리한다(분리하면 str이 된다.)\n",
    "- list로 변환하면 3자리수가 1나씩 분리된다.\n",
    "- reverse로 뒤집은 후 다시 join 한다.\n",
    "- 마지막으로 비교연산 수행"
   ]
  },
  {
   "attachments": {
    "image.png": {
     "image/png": "[encoded data removed]"
    }
   },
   "cell_type": "markdown",
   "id": "2247de65",
   "metadata": {},
   "source": [
    "![image.png](attachment:image.png)\n",
    "- 테스트 수행시간 결과"
   ]
  },
  {
   "cell_type": "markdown",
   "id": "91b75d58",
   "metadata": {},
   "source": [
    "- [::-1]로 코드를 좀더 간소화 해보자"
   ]
  },
  {
   "cell_type": "code",
   "execution_count": 2,
   "id": "d4b40da4",
   "metadata": {},
   "outputs": [
    {
     "name": "stdout",
     "output_type": "stream",
     "text": [
      "123\n",
      "456\n"
     ]
    },
    {
     "ename": "TypeError",
     "evalue": "'int' object is not subscriptable",
     "output_type": "error",
     "traceback": [
      "\u001b[1;31m---------------------------------------------------------------------------\u001b[0m",
      "\u001b[1;31mTypeError\u001b[0m                                 Traceback (most recent call last)",
      "\u001b[1;32m~\\AppData\\Local\\Temp/ipykernel_23364/2452432938.py\u001b[0m in \u001b[0;36m<module>\u001b[1;34m\u001b[0m\n\u001b[0;32m      1\u001b[0m \u001b[0ma\u001b[0m\u001b[1;33m=\u001b[0m\u001b[0mint\u001b[0m\u001b[1;33m(\u001b[0m\u001b[0minput\u001b[0m\u001b[1;33m(\u001b[0m\u001b[1;33m)\u001b[0m\u001b[1;33m)\u001b[0m\u001b[1;33m\u001b[0m\u001b[1;33m\u001b[0m\u001b[0m\n\u001b[0;32m      2\u001b[0m \u001b[0mb\u001b[0m\u001b[1;33m=\u001b[0m\u001b[0mint\u001b[0m\u001b[1;33m(\u001b[0m\u001b[0minput\u001b[0m\u001b[1;33m(\u001b[0m\u001b[1;33m)\u001b[0m\u001b[1;33m)\u001b[0m\u001b[1;33m\u001b[0m\u001b[1;33m\u001b[0m\u001b[0m\n\u001b[1;32m----> 3\u001b[1;33m \u001b[0mprint\u001b[0m\u001b[1;33m(\u001b[0m\u001b[0ma\u001b[0m\u001b[1;33m[\u001b[0m\u001b[1;33m:\u001b[0m\u001b[1;33m:\u001b[0m\u001b[1;33m-\u001b[0m\u001b[1;36m1\u001b[0m\u001b[1;33m]\u001b[0m\u001b[1;33m)\u001b[0m\u001b[1;33m\u001b[0m\u001b[1;33m\u001b[0m\u001b[0m\n\u001b[0m\u001b[0;32m      4\u001b[0m \u001b[0mprint\u001b[0m\u001b[1;33m(\u001b[0m\u001b[0mb\u001b[0m\u001b[1;33m[\u001b[0m\u001b[1;33m:\u001b[0m\u001b[1;33m:\u001b[0m\u001b[1;33m-\u001b[0m\u001b[1;36m1\u001b[0m\u001b[1;33m]\u001b[0m\u001b[1;33m)\u001b[0m\u001b[1;33m\u001b[0m\u001b[1;33m\u001b[0m\u001b[0m\n",
      "\u001b[1;31mTypeError\u001b[0m: 'int' object is not subscriptable"
     ]
    }
   ],
   "source": [
    "a=int(input())\n",
    "b=int(input())\n",
    "print(a[::-1])\n",
    "print(b[::-1])\n"
   ]
  },
  {
   "cell_type": "markdown",
   "id": "008a9fd7",
   "metadata": {},
   "source": [
    "- [::-1] 방식은 \"int\"를 사용할 수 없다... str로 받고 int로 바꾸자"
   ]
  },
  {
   "cell_type": "code",
   "execution_count": 46,
   "id": "90214f0d",
   "metadata": {},
   "outputs": [
    {
     "name": "stdout",
     "output_type": "stream",
     "text": [
      "123 456\n",
      "654\n"
     ]
    }
   ],
   "source": [
    "i_s=str(input())\n",
    "a, b=i_s.split(' ')\n",
    "a=a[::-1]\n",
    "b=b[::-1]\n",
    "if int(a)> int(b):\n",
    "    print(a)\n",
    "else:\n",
    "    print(b)\n"
   ]
  },
  {
   "attachments": {
    "image.png": {
     "image/png": "[encoded data removed]"
    }
   },
   "cell_type": "markdown",
   "id": "ce126578",
   "metadata": {},
   "source": [
    "- 코드 줄이 훨씬 줄어들긴 했다.\n",
    "- 수행시간에도 차이가 있을까?\n",
    "![image.png](attachment:image.png)\n",
    "- 큰차이는 없는거 같다"
   ]
  },
  {
   "cell_type": "code",
   "execution_count": null,
   "id": "14390361",
   "metadata": {},
   "outputs": [],
   "source": []
  }
 ],
 "metadata": {
  "kernelspec": {
   "display_name": "Python 3 (ipykernel)",
   "language": "python",
   "name": "python3"
  },
  "language_info": {
   "codemirror_mode": {
    "name": "ipython",
    "version": 3
   },
   "file_extension": ".py",
   "mimetype": "text/x-python",
   "name": "python",
   "nbconvert_exporter": "python",
   "pygments_lexer": "ipython3",
   "version": "3.9.7"
  }
 },
 "nbformat": 4,
 "nbformat_minor": 5
}

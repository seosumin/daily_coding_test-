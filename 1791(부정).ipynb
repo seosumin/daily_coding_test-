{
 "cells": [
  {
   "cell_type": "markdown",
   "id": "6eb74688",
   "metadata": {},
   "source": [
    "## 부정 -난이도 기초"
   ]
  },
  {
   "cell_type": "markdown",
   "id": "55059a6c",
   "metadata": {},
   "source": [
    "- 정수 A가 입력되었을 때 컴퓨터 시스템에서 정수 A를 참으로 인식한다면 0(거짓)을 출력하고, 그렇지 않으면 1(참)을 출력하는 프로그램을 작성하세요\n",
    "\n",
    "- 첫째 줄에 정수 A가 입력됩니다. (-1,000,000,000 <= A <= 1,000,000,000)"
   ]
  },
  {
   "cell_type": "markdown",
   "id": "1abfc119",
   "metadata": {},
   "source": [
    "* 3번 틀린 이유 : 처음에 단순히 IF문으로 bool 연산자 사용해서 참이면 0 거짓이면 1로 작성함. 이렇게 \n",
    "    - 진짜 문제 이해하는거 자체도 힘들었다."
   ]
  },
  {
   "cell_type": "code",
   "execution_count": null,
   "id": "36180e10",
   "metadata": {},
   "outputs": [],
   "source": [
    "a = int(input())\n",
    "if bool(a) == True:\n",
    "    print(0)\n",
    "else :\n",
    "    print(1)"
   ]
  },
  {
   "cell_type": "markdown",
   "id": "e0412f7b",
   "metadata": {},
   "source": [
    "- 이렇게 짜니까 계속 틀렸다. 그 이유는 속도 때문인 것 같다. \n",
    "- 컴퓨터는 0을 False 1을 True로 받아들인다. \n",
    "- 따라서 간단하게 0이면 1 출력, 나머지는 0으로 출력하는 코드를 실행시면 통과된다. "
   ]
  },
  {
   "cell_type": "code",
   "execution_count": null,
   "id": "e98bc8d3",
   "metadata": {},
   "outputs": [],
   "source": [
    "if a==0:\n",
    "    print(1)\n",
    "else:\n",
    "    print(0)"
   ]
  }
 ],
 "metadata": {
  "kernelspec": {
   "display_name": "Python 3 (ipykernel)",
   "language": "python",
   "name": "python3"
  },
  "language_info": {
   "codemirror_mode": {
    "name": "ipython",
    "version": 3
   },
   "file_extension": ".py",
   "mimetype": "text/x-python",
   "name": "python",
   "nbconvert_exporter": "python",
   "pygments_lexer": "ipython3",
   "version": "3.9.7"
  }
 },
 "nbformat": 4,
 "nbformat_minor": 5
}

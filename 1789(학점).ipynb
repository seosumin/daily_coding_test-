{
 "cells": [
  {
   "cell_type": "markdown",
   "metadata": {},
   "source": [
    "## 학점 난이도 기초"
   ]
  },
  {
   "cell_type": "markdown",
   "metadata": {},
   "source": [
    "- 학생의 점수를 의미하는 정수 A가 입력될 때 학생의 학점을 출력하는 프로그램을 작성하세요. 점수에 따른 출력 내용은 다음과 같습니다. 1) 점수가 90점 이상일 때: A 2) 점수가 90점 미만 80점 이상일 때: B 3) 점수가 80점 미만 70점 이상일 때: C 4) 점수가 70점 미만: F\n",
    "- 첫 번째 줄에 학생의 점수를 의미하는 정수 A가 입력됩니다. (0 <= A <= 100)\n",
    "- 학생의 점수에 따른 학점 정보를 출력합니다."
   ]
  },
  {
   "cell_type": "markdown",
   "metadata": {},
   "source": [
    "## 1) 문제 이해\n",
    "- 간단한 성적 변환 프로그램\n",
    "- 90 이상--> A\n",
    "- 80 이상 90 미만 B\n",
    "- 70 이상 80 미만 C\n",
    "- 70 미만 F"
   ]
  },
  {
   "cell_type": "markdown",
   "metadata": {},
   "source": [
    "## 2) 필요한건?\n",
    "- if문 정도?"
   ]
  },
  {
   "cell_type": "code",
   "execution_count": 3,
   "metadata": {},
   "outputs": [
    {
     "name": "stdout",
     "output_type": "stream",
     "text": [
      "10\n",
      "F\n"
     ]
    }
   ],
   "source": [
    "A=int(input())\n",
    "if A >= 90:\n",
    "    print(\"A\")\n",
    "elif 80 <= A < 90:\n",
    "    print(\"B\")\n",
    "elif 70 <= A < 80:\n",
    "    print(\"C\")\n",
    "else:\n",
    "    print(\"F\")"
   ]
  },
  {
   "cell_type": "code",
   "execution_count": null,
   "metadata": {},
   "outputs": [],
   "source": []
  }
 ],
 "metadata": {
  "kernelspec": {
   "display_name": "Python 3 (ipykernel)",
   "language": "python",
   "name": "python3"
  },
  "language_info": {
   "codemirror_mode": {
    "name": "ipython",
    "version": 3
   },
   "file_extension": ".py",
   "mimetype": "text/x-python",
   "name": "python",
   "nbconvert_exporter": "python",
   "pygments_lexer": "ipython3",
   "version": "3.9.7"
  }
 },
 "nbformat": 4,
 "nbformat_minor": 4
}
